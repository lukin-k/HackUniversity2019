{
 "cells": [
  {
   "cell_type": "code",
   "execution_count": null,
   "metadata": {},
   "outputs": [],
   "source": [
    "from paho.mqtt import client\n",
    "\n",
    "\n",
    "def on_connect(client, userdata, rc):  \n",
    "    print(\"Connected with result code: %s\" % rc)\n",
    "    client.subscribe(\"state/temperature\")\n",
    "\n",
    "def on_message(client, userdata, msg):  \n",
    "    print(\"%s: %s\" % (msg.topic, msg.payload))\n",
    "\n",
    "def main():  \n",
    "    subscriber = client.Client(\"ric-room\")\n",
    "    subscriber.on_connect = on_connect\n",
    "    subscriber.on_message = on_message\n",
    "\n",
    "    subscriber.connect(\"sandbox.rightech.io\",1883)\n",
    "    subscriber.loop_forever()\n",
    "\n",
    "if __name__ == \"__main__\":  \n",
    "    main()"
   ]
  },
  {
   "cell_type": "code",
   "execution_count": null,
   "metadata": {},
   "outputs": [],
   "source": [
    "from paho.mqtt import publish\n",
    "\n",
    "\n",
    "def main():  \n",
    "    #msgs = [{'topic': \"state/temperature\", 'payload': 21}]\n",
    "    publish.single(\"state/temperature\", 25, hostname=\"sandbox.rightech.io\",port = 1883,client_id=\"ric-room\")\n",
    "\n",
    "if __name__ == \"__main__\":  \n",
    "    main()"
   ]
  },
  {
   "cell_type": "code",
   "execution_count": 18,
   "metadata": {},
   "outputs": [
    {
     "name": "stdout",
     "output_type": "stream",
     "text": [
      "creating new instance\n",
      "connecting to broker\n",
      "Subscribing to topic\n",
      "Publishing message to topic house/bulbs/bulb1\n"
     ]
    },
    {
     "data": {
      "text/plain": [
       "<paho.mqtt.client.MQTTMessageInfo at 0x22d919d2e58>"
      ]
     },
     "execution_count": 18,
     "metadata": {},
     "output_type": "execute_result"
    }
   ],
   "source": [
    "import paho.mqtt.client as mqtt #import the client1\n",
    "\n",
    "#def on_message(client, userdata, msg):  \n",
    "   # print(\"%s: %s\" % (msg.topic, msg.payload))\n",
    "\n",
    "broker_address=\"sandbox.rightech.io\" \n",
    "#broker_address=\"iot.eclipse.org\"\n",
    "print(\"creating new instance\")\n",
    "client = mqtt.Client(\"test-object25\") #create new instance\n",
    "print(\"connecting to broker\")\n",
    "client.connect(broker_address,1883) #connect to broker\n",
    "print(\"Subscribing to topic\")\n",
    "print(\"Publishing message to topic\",\"house/bulbs/bulb1\")\n",
    "client.publish(\"base/state/temperature\",\"24\")\n",
    "client.publish(\"base/state/humidity\",\"45\")\n",
    "\n",
    "#client.subscribe(\"base/relay/led1\")\n",
    "#client.on_message = on_message\n",
    "#client.loop_forever()\n",
    "\n"
   ]
  },
  {
   "cell_type": "code",
   "execution_count": 23,
   "metadata": {},
   "outputs": [
    {
     "name": "stdout",
     "output_type": "stream",
     "text": [
      "start\n",
      "publ\n"
     ]
    },
    {
     "ename": "KeyboardInterrupt",
     "evalue": "",
     "output_type": "error",
     "traceback": [
      "\u001b[1;31m---------------------------------------------------------------------------\u001b[0m",
      "\u001b[1;31mKeyboardInterrupt\u001b[0m                         Traceback (most recent call last)",
      "\u001b[1;32m<ipython-input-23-86dd202f851a>\u001b[0m in \u001b[0;36m<module>\u001b[1;34m\u001b[0m\n\u001b[0;32m     37\u001b[0m                 \u001b[0mpercent\u001b[0m\u001b[1;33m=\u001b[0m\u001b[1;36m20\u001b[0m\u001b[1;33m\u001b[0m\u001b[1;33m\u001b[0m\u001b[0m\n\u001b[0;32m     38\u001b[0m             \u001b[0mclients\u001b[0m\u001b[1;33m[\u001b[0m\u001b[0mi\u001b[0m\u001b[1;33m]\u001b[0m\u001b[1;33m.\u001b[0m\u001b[0mpublish\u001b[0m\u001b[1;33m(\u001b[0m\u001b[0mparam\u001b[0m\u001b[1;33m[\u001b[0m\u001b[0mj\u001b[0m\u001b[1;33m]\u001b[0m\u001b[1;33m,\u001b[0m \u001b[0mstr\u001b[0m\u001b[1;33m(\u001b[0m\u001b[0mrandom\u001b[0m\u001b[1;33m.\u001b[0m\u001b[0mrandint\u001b[0m\u001b[1;33m(\u001b[0m\u001b[0mlimits\u001b[0m\u001b[1;33m[\u001b[0m\u001b[0mj\u001b[0m\u001b[1;33m]\u001b[0m\u001b[1;33m[\u001b[0m\u001b[1;34m\"min\"\u001b[0m\u001b[1;33m]\u001b[0m\u001b[1;33m,\u001b[0m \u001b[0mlimits\u001b[0m\u001b[1;33m[\u001b[0m\u001b[0mj\u001b[0m\u001b[1;33m]\u001b[0m\u001b[1;33m[\u001b[0m\u001b[1;34m\"max\"\u001b[0m\u001b[1;33m]\u001b[0m\u001b[1;33m)\u001b[0m\u001b[1;33m+\u001b[0m\u001b[0mlimits\u001b[0m\u001b[1;33m[\u001b[0m\u001b[0mj\u001b[0m\u001b[1;33m]\u001b[0m\u001b[1;33m[\u001b[0m\u001b[1;34m\"pen_wei\"\u001b[0m\u001b[1;33m]\u001b[0m\u001b[1;33m*\u001b[0m\u001b[1;33m(\u001b[0m\u001b[0mrandom\u001b[0m\u001b[1;33m.\u001b[0m\u001b[0mrandint\u001b[0m\u001b[1;33m(\u001b[0m\u001b[1;36m0\u001b[0m\u001b[1;33m,\u001b[0m \u001b[1;36m100\u001b[0m\u001b[1;33m)\u001b[0m\u001b[1;33m<\u001b[0m\u001b[0mpercent\u001b[0m\u001b[1;33m)\u001b[0m\u001b[1;33m)\u001b[0m\u001b[1;33m)\u001b[0m\u001b[1;33m\u001b[0m\u001b[1;33m\u001b[0m\u001b[0m\n\u001b[1;32m---> 39\u001b[1;33m     \u001b[0mtime\u001b[0m\u001b[1;33m.\u001b[0m\u001b[0msleep\u001b[0m\u001b[1;33m(\u001b[0m\u001b[1;36m10\u001b[0m\u001b[1;33m)\u001b[0m\u001b[1;33m\u001b[0m\u001b[1;33m\u001b[0m\u001b[0m\n\u001b[0m\u001b[0;32m     40\u001b[0m     \u001b[1;33m-\u001b[0m\u001b[1;33m-\u001b[0m\u001b[0mko\u001b[0m\u001b[1;33m\u001b[0m\u001b[1;33m\u001b[0m\u001b[0m\n\u001b[0;32m     41\u001b[0m \u001b[0mprint\u001b[0m\u001b[1;33m(\u001b[0m\u001b[1;34m\"end\"\u001b[0m\u001b[1;33m)\u001b[0m\u001b[1;33m\u001b[0m\u001b[1;33m\u001b[0m\u001b[0m\n",
      "\u001b[1;31mKeyboardInterrupt\u001b[0m: "
     ]
    }
   ],
   "source": [
    "import paho.mqtt.client as clnt\n",
    "import random\n",
    "import time\n",
    "broker_address=\"sandbox.rightech.io\"\n",
    "id_object=\"hu_dev\"\n",
    "param=[\"base/state/pressure\", \"base/state/temperature\"]\n",
    "limits=[{\"min\":65, \"max\":74, \"pen_wei\":2},{\"min\":140, \"max\":147, \"pen_wei\":3}]\n",
    "topic=\"base/relay/led1\"\n",
    "clients=[]\n",
    "power=[]\n",
    "\n",
    "def on_message(client, userdata, msg):\n",
    "    print(\"msg\")\n",
    "    N=int(userdata.client_id[len(id_object):])\n",
    "    if(msg.payload==\"stop\"):\n",
    "        print(\"TOO HOt\")\n",
    "        power[N]=false\n",
    "    if(msg.payload==\"start\"):\n",
    "        print(\"norma\")\n",
    "        power[N]=true\n",
    "    print(\"%s: %s\" % (msg.topic, msg.payload))\n",
    "\n",
    "print(\"start\")\n",
    "for i in range(0, 6):\n",
    "    clients.append(clnt.Client(id_object+str(i)))\n",
    "    power.append(1)\n",
    "    clients[i].connect(broker_address, 1883)\n",
    "    client[i].subscribe(topic)\n",
    "    client[i].on_message = on_message\n",
    "    #clients[i].loop_forever()\n",
    "ko=5\n",
    "print(\"publ\")\n",
    "while(ko):\n",
    "    for i in range(0, 6):\n",
    "        for j in range(0, 2):\n",
    "            percent=40\n",
    "            if(power[i]==0):\n",
    "                percent=20\n",
    "            clients[i].publish(param[j], str(random.randint(limits[j][\"min\"], limits[j][\"max\"])+limits[j][\"pen_wei\"]*(random.randint(0, 100)<percent))) \n",
    "    time.sleep(10)\n",
    "    --ko\n",
    "    print(ko)\n",
    "print(\"end\")"
   ]
  },
  {
   "cell_type": "code",
   "execution_count": null,
   "metadata": {},
   "outputs": [],
   "source": []
  },
  {
   "cell_type": "code",
   "execution_count": null,
   "metadata": {},
   "outputs": [],
   "source": []
  }
 ],
 "metadata": {
  "kernelspec": {
   "display_name": "Python 3",
   "language": "python",
   "name": "python3"
  },
  "language_info": {
   "codemirror_mode": {
    "name": "ipython",
    "version": 3
   },
   "file_extension": ".py",
   "mimetype": "text/x-python",
   "name": "python",
   "nbconvert_exporter": "python",
   "pygments_lexer": "ipython3",
   "version": "3.7.1"
  }
 },
 "nbformat": 4,
 "nbformat_minor": 2
}
