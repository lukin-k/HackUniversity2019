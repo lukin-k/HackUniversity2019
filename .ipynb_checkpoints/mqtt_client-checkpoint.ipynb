{
 "cells": [
  {
   "cell_type": "code",
   "execution_count": 12,
   "metadata": {},
   "outputs": [],
   "source": [
    "from paho.mqtt import client\n",
    "\n",
    "def on_connect(client, userdata, rc):\n",
    "    print(\"Connected with result code: %s\" % rc)\n",
    "    client.subscribe(\"state/temperature\")\n",
    "\n",
    "def on_message(client, userdata, msg):\n",
    "    print(\"%s: %s\" % (msg.topic, msg.payload))\n",
    "\n",
    "def main():\n",
    "    subscriber = client.Client()\n",
    "    subscriber.on_connect = on_connect\n",
    "    subscriber.on_message = on_message\n",
    "\n",
    "    subscriber.connect(\"sandbox.rightech.io:1883:ric-room\")\n",
    "    subscriber.loop_forever()\n",
    "\n",
    "#if __name__ == \"__main__\":  \n",
    "main()"
   ]
  },
  {
   "cell_type": "code",
   "execution_count": 13,
   "metadata": {},
   "outputs": [],
   "source": [
    "from paho.mqtt import publish\n",
    "\n",
    "\n",
    "def main():  \n",
    "    msgs = [{'topic': \"room/aircon/power\", 'payload': \"1\"}]\n",
    "    publish.multiple(msgs, hostname=\"sandbox.rightech.io:1883:ric-room\")\n",
    "    \n",
    "main()"
   ]
  },
  {
   "cell_type": "code",
   "execution_count": null,
   "metadata": {},
   "outputs": [],
   "source": []
  }
 ],
 "metadata": {
  "kernelspec": {
   "display_name": "Python 3",
   "language": "python",
   "name": "python3"
  },
  "language_info": {
   "codemirror_mode": {
    "name": "ipython",
    "version": 3
   },
   "file_extension": ".py",
   "mimetype": "text/x-python",
   "name": "python",
   "nbconvert_exporter": "python",
   "pygments_lexer": "ipython3",
   "version": "3.7.1"
  }
 },
 "nbformat": 4,
 "nbformat_minor": 2
}
