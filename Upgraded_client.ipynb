{
 "cells": [
  {
   "cell_type": "code",
   "execution_count": null,
   "metadata": {},
   "outputs": [],
   "source": [
    "from paho.mqtt import client\n",
    "\n",
    "\n",
    "def on_connect(client, userdata, rc):  \n",
    "    print(\"Connected with result code: %s\" % rc)\n",
    "    client.subscribe(\"state/temperature\")\n",
    "\n",
    "def on_message(client, userdata, msg):  \n",
    "    print(\"%s: %s\" % (msg.topic, msg.payload))\n",
    "\n",
    "def main():  \n",
    "    subscriber = client.Client(\"ric-room\")\n",
    "    subscriber.on_connect = on_connect\n",
    "    subscriber.on_message = on_message\n",
    "\n",
    "    subscriber.connect(\"sandbox.rightech.io\",1883)\n",
    "    subscriber.loop_forever()\n",
    "\n",
    "if __name__ == \"__main__\":  \n",
    "    main()"
   ]
  },
  {
   "cell_type": "code",
   "execution_count": null,
   "metadata": {},
   "outputs": [],
   "source": [
    "from paho.mqtt import publish\n",
    "\n",
    "\n",
    "def main():  \n",
    "    #msgs = [{'topic': \"state/temperature\", 'payload': 21}]\n",
    "    publish.single(\"state/temperature\", 25, hostname=\"sandbox.rightech.io\",port = 1883,client_id=\"ric-room\")\n",
    "\n",
    "if __name__ == \"__main__\":  \n",
    "    main()"
   ]
  },
  {
   "cell_type": "code",
   "execution_count": 18,
   "metadata": {},
   "outputs": [
    {
     "name": "stdout",
     "output_type": "stream",
     "text": [
      "creating new instance\n",
      "connecting to broker\n",
      "Subscribing to topic\n",
      "Publishing message to topic house/bulbs/bulb1\n"
     ]
    },
    {
     "data": {
      "text/plain": [
       "<paho.mqtt.client.MQTTMessageInfo at 0x22d919d2e58>"
      ]
     },
     "execution_count": 18,
     "metadata": {},
     "output_type": "execute_result"
    }
   ],
   "source": [
    "import paho.mqtt.client as mqtt #import the client1\n",
    "\n",
    "#def on_message(client, userdata, msg):  \n",
    "   # print(\"%s: %s\" % (msg.topic, msg.payload))\n",
    "\n",
    "broker_address=\"sandbox.rightech.io\" \n",
    "#broker_address=\"iot.eclipse.org\"\n",
    "print(\"creating new instance\")\n",
    "client = mqtt.Client(\"test-object25\") #create new instance\n",
    "print(\"connecting to broker\")\n",
    "client.connect(broker_address,1883) #connect to broker\n",
    "print(\"Subscribing to topic\")\n",
    "print(\"Publishing message to topic\",\"house/bulbs/bulb1\")\n",
    "client.publish(\"base/state/temperature\",\"24\")\n",
    "client.publish(\"base/state/humidity\",\"45\")\n",
    "\n",
    "#client.subscribe(\"base/relay/led1\")\n",
    "#client.on_message = on_message\n",
    "#client.loop_forever()\n",
    "\n"
   ]
  },
  {
   "cell_type": "code",
   "execution_count": null,
   "metadata": {},
   "outputs": [],
   "source": []
  },
  {
   "cell_type": "code",
   "execution_count": null,
   "metadata": {},
   "outputs": [],
   "source": []
  }
 ],
 "metadata": {
  "kernelspec": {
   "display_name": "Python 3",
   "language": "python",
   "name": "python3"
  },
  "language_info": {
   "codemirror_mode": {
    "name": "ipython",
    "version": 3
   },
   "file_extension": ".py",
   "mimetype": "text/x-python",
   "name": "python",
   "nbconvert_exporter": "python",
   "pygments_lexer": "ipython3",
   "version": "3.6.5"
  }
 },
 "nbformat": 4,
 "nbformat_minor": 2
}
