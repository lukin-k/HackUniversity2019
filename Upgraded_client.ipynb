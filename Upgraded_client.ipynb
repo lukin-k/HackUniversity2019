{
 "cells": [
  {
   "cell_type": "code",
   "execution_count": null,
   "metadata": {},
   "outputs": [],
   "source": [
    "from paho.mqtt import client\n",
    "\n",
    "\n",
    "def on_connect(client, userdata, rc):  \n",
    "    print(\"Connected with result code: %s\" % rc)\n",
    "    client.subscribe(\"state/temperature\")\n",
    "\n",
    "def on_message(client, userdata, msg):  \n",
    "    print(\"%s: %s\" % (msg.topic, msg.payload))\n",
    "\n",
    "def main():  \n",
    "    subscriber = client.Client(\"ric-room\")\n",
    "    subscriber.on_connect = on_connect\n",
    "    subscriber.on_message = on_message\n",
    "\n",
    "    subscriber.connect(\"sandbox.rightech.io\",1883)\n",
    "    subscriber.loop_forever()\n",
    "\n",
    "if __name__ == \"__main__\":  \n",
    "    main()"
   ]
  },
  {
   "cell_type": "code",
   "execution_count": null,
   "metadata": {},
   "outputs": [],
   "source": [
    "from paho.mqtt import publish\n",
    "\n",
    "\n",
    "def main():  \n",
    "    #msgs = [{'topic': \"state/temperature\", 'payload': 21}]\n",
    "    publish.single(\"state/temperature\", 25, hostname=\"sandbox.rightech.io\",port = 1883,client_id=\"ric-room\")\n",
    "\n",
    "if __name__ == \"__main__\":  \n",
    "    main()"
   ]
  },
  {
   "cell_type": "code",
   "execution_count": 18,
   "metadata": {},
   "outputs": [
    {
     "name": "stdout",
     "output_type": "stream",
     "text": [
      "creating new instance\n",
      "connecting to broker\n",
      "Subscribing to topic\n",
      "Publishing message to topic house/bulbs/bulb1\n"
     ]
    },
    {
     "data": {
      "text/plain": [
       "<paho.mqtt.client.MQTTMessageInfo at 0x22d919d2e58>"
      ]
     },
     "execution_count": 18,
     "metadata": {},
     "output_type": "execute_result"
    }
   ],
   "source": [
    "import paho.mqtt.client as mqtt #import the client1\n",
    "\n",
    "#def on_message(client, userdata, msg):  \n",
    "   # print(\"%s: %s\" % (msg.topic, msg.payload))\n",
    "\n",
    "broker_address=\"sandbox.rightech.io\" \n",
    "#broker_address=\"iot.eclipse.org\"\n",
    "print(\"creating new instance\")\n",
    "client = mqtt.Client(\"test-object25\") #create new instance\n",
    "print(\"connecting to broker\")\n",
    "client.connect(broker_address,1883) #connect to broker\n",
    "print(\"Subscribing to topic\")\n",
    "print(\"Publishing message to topic\",\"house/bulbs/bulb1\")\n",
    "client.publish(\"base/state/temperature\",\"24\")\n",
    "client.publish(\"base/state/humidity\",\"45\")\n",
    "\n",
    "#client.subscribe(\"base/relay/led1\")\n",
    "#client.on_message = on_message\n",
    "#client.loop_forever()\n",
    "\n"
   ]
  },
  {
   "cell_type": "code",
   "execution_count": 61,
   "metadata": {},
   "outputs": [
    {
     "name": "stdout",
     "output_type": "stream",
     "text": [
      "start\n",
      "publ\n",
      "mid\n",
      "mid\n",
      "mid\n",
      "mid\n",
      "mid\n",
      "mid\n",
      "4\n",
      "mid\n",
      "mid\n",
      "mid\n",
      "mid\n",
      "mid\n",
      "mid\n",
      "3\n",
      "mid\n",
      "mid\n",
      "mid\n",
      "mid\n",
      "mid\n",
      "mid\n",
      "2\n",
      "mid\n",
      "mid\n",
      "mid\n",
      "mid\n",
      "mid\n",
      "mid\n",
      "1\n",
      "mid\n",
      "mid\n",
      "mid\n",
      "mid\n",
      "mid\n",
      "mid\n"
     ]
    },
    {
     "ename": "KeyboardInterrupt",
     "evalue": "",
     "output_type": "error",
     "traceback": [
      "\u001b[1;31m---------------------------------------------------------------------------\u001b[0m",
      "\u001b[1;31mKeyboardInterrupt\u001b[0m                         Traceback (most recent call last)",
      "\u001b[1;32m<ipython-input-61-892dcba67e4b>\u001b[0m in \u001b[0;36m<module>\u001b[1;34m\u001b[0m\n\u001b[0;32m     49\u001b[0m     \u001b[1;32mwhile\u001b[0m\u001b[1;33m(\u001b[0m\u001b[0mt\u001b[0m\u001b[1;33m+\u001b[0m\u001b[1;36m10\u001b[0m\u001b[1;33m>\u001b[0m\u001b[0mtime\u001b[0m\u001b[1;33m.\u001b[0m\u001b[0mperf_counter\u001b[0m\u001b[1;33m(\u001b[0m\u001b[1;33m)\u001b[0m\u001b[1;33m)\u001b[0m\u001b[1;33m:\u001b[0m\u001b[1;33m\u001b[0m\u001b[1;33m\u001b[0m\u001b[0m\n\u001b[0;32m     50\u001b[0m         \u001b[1;31m#sub.callback(callback=on_message, topics=topic, hostname=broker_address, port=1883, client_id=\"hu_dev0\")\u001b[0m\u001b[1;33m\u001b[0m\u001b[1;33m\u001b[0m\u001b[1;33m\u001b[0m\u001b[0m\n\u001b[1;32m---> 51\u001b[1;33m         \u001b[1;32mpass\u001b[0m\u001b[1;33m\u001b[0m\u001b[1;33m\u001b[0m\u001b[0m\n\u001b[0m\u001b[0;32m     52\u001b[0m         \u001b[1;31m#simple(topics, qos=0, msg_count=1, retained=False, hostname=\"localhost\",\u001b[0m\u001b[1;33m\u001b[0m\u001b[1;33m\u001b[0m\u001b[1;33m\u001b[0m\u001b[0m\n\u001b[0;32m     53\u001b[0m     \u001b[1;31m#port=1883, client_id=\"\", keepalive=60, will=None, auth=None, tls=None,\u001b[0m\u001b[1;33m\u001b[0m\u001b[1;33m\u001b[0m\u001b[1;33m\u001b[0m\u001b[0m\n",
      "\u001b[1;31mKeyboardInterrupt\u001b[0m: "
     ]
    }
   ],
   "source": [
    "import paho.mqtt.client as clnt\n",
    "import paho.mqtt.subscribe as sub \n",
    "import random\n",
    "import time\n",
    "\n",
    "broker_address=\"sandbox.rightech.io\"\n",
    "id_object=\"hu_dev\"\n",
    "param=[\"base/state/pressure\", \"base/state/temperature\"]\n",
    "limits=[{\"min\":65, \"max\":74, \"pen_wei\":2},{\"min\":140, \"max\":147, \"pen_wei\":3}]\n",
    "topic=\"ok\"\n",
    "clients=[]\n",
    "power=[]\n",
    "\n",
    "def mes(N_client, msg):\n",
    "    print(\"%s: %s\" % (msg.topic, msg.payload))\n",
    "    #N=int(userdata.client_id[len(id_object):])\n",
    "    if(msg.payload==\"stop\"):\n",
    "        print(\"TOO HOt\")\n",
    "        power[N_client]=false\n",
    "    if(msg.payload==\"start\"):\n",
    "        print(\"norma\")\n",
    "        power[N_client]=true\n",
    "\n",
    "print(\"start\")\n",
    "for i in range(0, 6):\n",
    "    clients.append(clnt.Client(id_object+str(i)))\n",
    "    power.append(1)\n",
    "    clients[i].connect(broker_address, 1883)\n",
    "    #clients[i].publish(\"base/state/temperature_array\", '0, 0')\n",
    "    clients[i].subscribe(topic)\n",
    "    #clients[i].on_message = on_message\n",
    "    #clients[i].loop_forever()\n",
    "ko=5\n",
    "print(\"publ\")\n",
    "while(ko):\n",
    "    for i in range(0, 6):\n",
    "        for j in range(0, 2):\n",
    "            percent=40\n",
    "            if(power[i]==0):\n",
    "                percent=20\n",
    "            clients[i].publish(param[j], str(random.randint(limits[j][\"min\"], limits[j][\"max\"])+limits[j][\"pen_wei\"]*(random.randint(0, 100)<percent))) \n",
    "        print(\"mid\")\n",
    "        #msg = sub.simple(topics=topic, hostname=broker_address, client_id=id_object+str(i))\n",
    "        #print (msg.topic)\n",
    "        #print (msg.payload)\n",
    "        #if(msg.payload!='ok'):\n",
    "        #    mes(i, msg)\n",
    "    t=time.perf_counter()\n",
    "    while(t+10>time.perf_counter()):\n",
    "        #sub.callback(callback=on_message, topics=topic, hostname=broker_address, port=1883, client_id=\"hu_dev0\")\n",
    "        pass\n",
    "        #simple(topics, qos=0, msg_count=1, retained=False, hostname=\"localhost\",\n",
    "    #port=1883, client_id=\"\", keepalive=60, will=None, auth=None, tls=None,\n",
    "    #protocol=mqtt.MQTTv311)\n",
    "    #print(time.perf_counter())\n",
    "    ko-=1\n",
    "    print(ko)\n",
    "print(\"end\")"
   ]
  },
  {
   "cell_type": "code",
   "execution_count": null,
   "metadata": {},
   "outputs": [],
   "source": []
  },
  {
   "cell_type": "code",
   "execution_count": null,
   "metadata": {},
   "outputs": [],
   "source": []
  }
 ],
 "metadata": {
  "kernelspec": {
   "display_name": "Python 3",
   "language": "python",
   "name": "python3"
  },
  "language_info": {
   "codemirror_mode": {
    "name": "ipython",
    "version": 3
   },
   "file_extension": ".py",
   "mimetype": "text/x-python",
   "name": "python",
   "nbconvert_exporter": "python",
   "pygments_lexer": "ipython3",
   "version": "3.7.1"
  }
 },
 "nbformat": 4,
 "nbformat_minor": 2
}
